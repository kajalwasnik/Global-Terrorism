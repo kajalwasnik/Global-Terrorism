{
  "nbformat": 4,
  "nbformat_minor": 0,
  "metadata": {
    "colab": {
      "private_outputs": true,
      "provenance": [],
      "collapsed_sections": [
        "w6K7xa23Elo4",
        "PH-0ReGfmX4f",
        "mDgbUHAGgjLW",
        "HhfV-JJviCcP",
        "Y3lxredqlCYt",
        "3RnN4peoiCZX",
        "x71ZqKXriCWQ",
        "7hBIi_osiCS2",
        "JlHwYmJAmNHm",
        "35m5QtbWiB9F",
        "PoPl-ycgm1ru",
        "H0kj-8xxnORC",
        "PBTbrJXOngz2",
        "u3PMJOP6ngxN",
        "dauF4eBmngu3",
        "bKJF3rekwFvQ",
        "MSa1f5Uengrz",
        "0wOQAZs5pc--",
        "K5QZ13OEpz2H",
        "lQ7QKXXCp7Bj",
        "448CDAPjqfQr",
        "KSlN3yHqYklG",
        "t6dVpIINYklI",
        "ijmpgYnKYklI",
        "-JiQyfWJYklI",
        "EM7whBJCYoAo",
        "fge-S5ZAYoAp",
        "85gYPyotYoAp",
        "RoGjAbkUYoAp",
        "4Of9eVA-YrdM",
        "iky9q4vBYrdO",
        "F6T5p64dYrdO",
        "y-Ehk30pYrdP",
        "bamQiAODYuh1",
        "QHF8YVU7Yuh3",
        "GwzvFGzlYuh3",
        "qYpmQ266Yuh3",
        "OH-pJp9IphqM",
        "bbFf2-_FphqN",
        "_ouA3fa0phqN",
        "Seke61FWphqN",
        "NC_X3p0fY2L0",
        "UV0SzAkaZNRQ",
        "YPEH6qLeZNRQ",
        "22aHeOlLveiV",
        "JcMwzZxoAimU",
        "8G2x9gOozGDZ",
        "gCX9965dhzqZ",
        "gIfDvo9L0UH2"
      ],
      "include_colab_link": true
    },
    "kernelspec": {
      "name": "python3",
      "display_name": "Python 3"
    },
    "language_info": {
      "name": "python"
    }
  },
  "cells": [
    {
      "cell_type": "markdown",
      "metadata": {
        "id": "view-in-github",
        "colab_type": "text"
      },
      "source": [
        "<a href=\"https://colab.research.google.com/github/kajalwasnik/Global-Terrorism/blob/main/Global_Terrorism.ipynb\" target=\"_parent\"><img src=\"https://colab.research.google.com/assets/colab-badge.svg\" alt=\"Open In Colab\"/></a>"
      ]
    },
    {
      "cell_type": "markdown",
      "source": [
        "# **Project Name**    - Global Derrorism Dataset\n",
        "\n",
        "\n",
        "\n",
        "\n",
        "\n"
      ],
      "metadata": {
        "id": "vncDsAP0Gaoa"
      }
    },
    {
      "cell_type": "markdown",
      "source": [
        "##### **Project Type**    - EDA\n",
        "**Name** - Kajal Wasnik\n",
        "##### **Contribution**    - Individual\n",
        "\n"
      ],
      "metadata": {
        "id": "beRrZCGUAJYm"
      }
    },
    {
      "cell_type": "markdown",
      "source": [
        "# **Project Summary -**"
      ],
      "metadata": {
        "id": "FJNUwmbgGyua"
      }
    },
    {
      "cell_type": "markdown",
      "source": [
        "The aim of this project is to perform an exploratory data analysis (EDA) on the Global Terrorism Database (GTD), an open-source dataset containing comprehensive information on terrorist attacks worldwide from 1970 through 2017. Developed and maintained by the National Consortium for the Study of Terrorism and Responses to Terrorism (START) at the University of Maryland, the database records over 180,000 terrorist incidents, both domestic and international. The primary objective of the project is to delve into this extensive dataset, identify noteworthy trends, patterns, and insights related to terrorism, and visually present these discoveries for a more comprehensive understanding.\n",
        "\n",
        "A crucial component of this initiative involves the extensive utilization of Python libraries tailored for data analysis and visualization. The cornerstone for data manipulation tasks, such as loading the dataset, cleaning data, and executing sophisticated aggregation operations, is the Pandas library. This powerful and high-performance tool offers efficient data structures, simplifying the handling of large datasets.\n",
        "\n",
        "To facilitate advanced numerical operations and enhance computation speed, the project employs the NumPy library. Renowned for its proficiency in managing multi-dimensional arrays and matrices, NumPy proves to be an ideal companion for various data processing tasks.\n",
        "\n",
        "The project goes beyond numerical data analysis by bringing extracted insights to life through vivid and informative visualizations, thanks to the Matplotlib and Seaborn libraries. These libraries offer a diverse range of visualization styles, enabling the display of data in visually appealing and informative ways. From bar plots and scatter plots to histograms and heatmaps, the project aims to utilize a minimum of five different visualization types to uncover relationships between variables and provide a graphical representation of the dataset's characteristics.\n",
        "\n",
        "Exploring the GTD through this project intends to provide a nuanced understanding of terrorism patterns over the decades. The goal is to reveal potential trends in attack frequency, the most targeted countries, preferred methods of attack, types of weapons used, casualties, and the evolution of terrorist organizations, among other relevant dimensions.\n",
        "\n",
        "By examining these factors, the project aims to offer a detailed overview of global terrorism trends, informing counter-terrorism strategies and policies. Additionally, the findings may contribute to understanding the characteristics of regions prone to attacks and the underlying reasons for their vulnerability.\n",
        "\n",
        "In conclusion, this project represents a data-driven exploration into the realm of terrorism, aiming to illuminate complex patterns within the vastness of the GTD. The final outcome will be a collection of valuable insights with the potential to significantly contribute to ongoing counter-terrorism efforts and guide future research in this field. The combination of data manipulation, numerical computation, and graphic visualization is expected to result in a robust and comprehensive exploration of the dataset, leading to substantial key findings related to global terrorism."
      ],
      "metadata": {
        "id": "FG-MTnu_D9lv"
      }
    },
    {
      "cell_type": "markdown",
      "source": [
        "Provide your GitHub Link here.\n",
        "\n",
        "Github -https://github.com/kajalwasnik/Global-Derrorism-Dataset"
      ],
      "metadata": {
        "id": "h1o69JH3Eqqn"
      }
    },
    {
      "cell_type": "markdown",
      "source": [
        "problem statement"
      ],
      "metadata": {
        "id": "DpeJGUA3kjGy"
      }
    },
    {
      "cell_type": "markdown",
      "source": [
        "\n",
        "Employing exploratory data analysis (EDA) methods on the Global Terrorism Database (GTD), pinpoint the global hotspots of terrorism and analyze the changing patterns of terrorist activities. What valuable insights concerning security issues can be extracted from this analysis, and how might these findings play a crucial role in shaping effective counter-terrorism strategies?"
      ],
      "metadata": {
        "id": "2sr6dzPxiG3W"
      }
    },
    {
      "cell_type": "markdown",
      "source": [
        "#### **Define Your Business Objective?**"
      ],
      "metadata": {
        "id": "PH-0ReGfmX4f"
      }
    },
    {
      "cell_type": "markdown",
      "source": [
        "The primary business goal of this project is to harness the data available in the Global Terrorism Database (GTD) to extract practical insights into global terrorist activities spanning from 1970 to 2017. Through a comprehensive exploratory data analysis (EDA), the objective is to uncover essential patterns, trends, and correlations related to global terrorism, thereby facilitating more informed decision-making for security analysts, policymakers, and counter-terrorism agencies.\n",
        "\n",
        "Specifically, the project aims to achieve the following:\n",
        "\n",
        "Identification of global \"hot zones\" for terrorist activities: By pinpointing the regions most affected, the project seeks to enhance understanding, allowing for optimal resource allocation to prevent future attacks.\n",
        "\n",
        "Analysis of the frequency and intensity of attacks: Examining the evolution of these factors over time provides insights into the changing dynamics of terrorism, enabling more accurate risk assessments.\n",
        "\n",
        "Examination of methodologies and weapons used in attacks: Shedding light on the operational preferences of terrorist organizations can offer early indicators of potential future threats.\n",
        "\n",
        "Assessment of casualty trends: Identifying the most devastating types of attacks helps in targeted response planning to minimize human loss.\n",
        "\n",
        "Unveiling patterns related to terrorist organizations: This aspect of the project has the potential to aid in understanding the strategies employed by terrorist organizations, thereby supporting intelligence agencies in their counter-terrorism efforts.\n",
        "\n",
        "\n",
        "\n",
        "\n"
      ],
      "metadata": {
        "id": "BfAl5xWXEidV"
      }
    },
    {
      "cell_type": "markdown",
      "source": [
        "# **General Guidelines** : -  "
      ],
      "metadata": {
        "id": "mDgbUHAGgjLW"
      }
    },
    {
      "cell_type": "markdown",
      "source": [
        "1.   Well-structured, formatted, and commented code is required.\n",
        "2.   Exception Handling, Production Grade Code & Deployment Ready Code will be a plus. Those students will be awarded some additional credits.\n",
        "     \n",
        "     The additional credits will have advantages over other students during Star Student selection.\n",
        "       \n",
        "             [ Note: - Deployment Ready Code is defined as, the whole .ipynb notebook should be executable in one go\n",
        "                       without a single error logged. ]\n",
        "\n",
        "3.   Each and every logic should have proper comments.\n",
        "4. You may add as many number of charts you want. Make Sure for each and every chart the following format should be answered.\n",
        "        \n",
        "\n",
        "```\n",
        "# Chart visualization code\n",
        "```\n",
        "            \n",
        "\n",
        "*   Why did you pick the specific chart?\n",
        "*   What is/are the insight(s) found from the chart?\n",
        "* Will the gained insights help creating a positive business impact?\n",
        "Are there any insights that lead to negative growth? Justify with specific reason.\n",
        "\n",
        "5. You have to create at least 20 logical & meaningful charts having important insights.\n",
        "\n",
        "\n",
        "[ Hints : - Do the Vizualization in  a structured way while following \"UBM\" Rule.\n",
        "\n",
        "U - Univariate Analysis,\n",
        "\n",
        "B - Bivariate Analysis (Numerical - Categorical, Numerical - Numerical, Categorical - Categorical)\n",
        "\n",
        "M - Multivariate Analysis\n",
        " ]\n",
        "\n",
        "\n",
        "\n"
      ],
      "metadata": {
        "id": "ZrxVaUj-hHfC"
      }
    },
    {
      "cell_type": "markdown",
      "source": [
        "# ***Let's Begin !***"
      ],
      "metadata": {
        "id": "O_i_v8NEhb9l"
      }
    },
    {
      "cell_type": "markdown",
      "source": [
        "## ***1. Know Your Data***"
      ],
      "metadata": {
        "id": "HhfV-JJviCcP"
      }
    },
    {
      "cell_type": "markdown",
      "source": [
        "### Import Libraries"
      ],
      "metadata": {
        "id": "Y3lxredqlCYt"
      }
    },
    {
      "cell_type": "code",
      "source": [
        "# Import Libraries\n"
      ],
      "metadata": {
        "id": "M8Vqi-pPk-HR"
      },
      "execution_count": null,
      "outputs": []
    },
    {
      "cell_type": "code",
      "source": [
        "import pandas as pd # data processing, csv file I/0 (e.g.pd.read_csv)\n",
        "import numpy as np\n",
        "import matplotlib.pyplot as plt # visualizing data\n",
        "import seaborn as sns\n",
        "import plotly.express as px\n",
        "%matplotlib inline\n"
      ],
      "metadata": {
        "id": "bX5RzKGbPQq_"
      },
      "execution_count": null,
      "outputs": []
    },
    {
      "cell_type": "markdown",
      "source": [
        "### Dataset Loading"
      ],
      "metadata": {
        "id": "3RnN4peoiCZX"
      }
    },
    {
      "cell_type": "code",
      "source": [
        "# Load Dataset\n"
      ],
      "metadata": {
        "id": "4CkvbW_SlZ_R"
      },
      "execution_count": null,
      "outputs": []
    },
    {
      "cell_type": "code",
      "source": [
        "#connect with googl drive\n",
        "from google.colab import drive\n",
        "drive.mount ('/content/drive')"
      ],
      "metadata": {
        "id": "A3pfMaluP7GE"
      },
      "execution_count": null,
      "outputs": []
    },
    {
      "cell_type": "code",
      "source": [],
      "metadata": {
        "id": "JUvs5gIj-F6K"
      },
      "execution_count": null,
      "outputs": []
    },
    {
      "cell_type": "code",
      "source": [
        "df = pd.read_csv('/content/drive/MyDrive/globalterrorismdb_0718dist (1).csv',encoding='latin')\n",
        "\n"
      ],
      "metadata": {
        "id": "XLDe-vSRm6qT"
      },
      "execution_count": null,
      "outputs": []
    },
    {
      "cell_type": "code",
      "source": [
        "df"
      ],
      "metadata": {
        "id": "1oVxzB5iXCd_"
      },
      "execution_count": null,
      "outputs": []
    },
    {
      "cell_type": "markdown",
      "source": [
        "### Dataset First View"
      ],
      "metadata": {
        "id": "x71ZqKXriCWQ"
      }
    },
    {
      "cell_type": "code",
      "source": [
        "# Dataset First Look\n",
        "df.head"
      ],
      "metadata": {
        "id": "LWNFOSvLl09H"
      },
      "execution_count": null,
      "outputs": []
    },
    {
      "cell_type": "code",
      "source": [
        "df.tail"
      ],
      "metadata": {
        "id": "siEArsto-Z4h"
      },
      "execution_count": null,
      "outputs": []
    },
    {
      "cell_type": "markdown",
      "source": [
        "### Dataset Rows & Columns count"
      ],
      "metadata": {
        "id": "7hBIi_osiCS2"
      }
    },
    {
      "cell_type": "code",
      "source": [
        "# Dataset Rows & Columns count\n"
      ],
      "metadata": {
        "id": "Kllu7SJgmLij"
      },
      "execution_count": null,
      "outputs": []
    },
    {
      "cell_type": "code",
      "source": [
        "df.shape"
      ],
      "metadata": {
        "id": "bxq8tyZqFWTP"
      },
      "execution_count": null,
      "outputs": []
    },
    {
      "cell_type": "markdown",
      "source": [
        "### Dataset Information"
      ],
      "metadata": {
        "id": "JlHwYmJAmNHm"
      }
    },
    {
      "cell_type": "code",
      "source": [
        "# Dataset Info\n",
        "df.info"
      ],
      "metadata": {
        "id": "e9hRXRi6meOf"
      },
      "execution_count": null,
      "outputs": []
    },
    {
      "cell_type": "markdown",
      "source": [
        "#### Duplicate Values"
      ],
      "metadata": {
        "id": "35m5QtbWiB9F"
      }
    },
    {
      "cell_type": "code",
      "source": [
        "# Dataset duplicate value count\n",
        "duplicate_rows = df.duplicated().sum()\n",
        "print(f'there are {duplicate_rows} duplicate_rows in the dataset')\n"
      ],
      "metadata": {
        "id": "XNoKcGs1MGwd"
      },
      "execution_count": null,
      "outputs": []
    },
    {
      "cell_type": "markdown",
      "source": [
        "#### Missing Values/Null Values"
      ],
      "metadata": {
        "id": "PoPl-ycgm1ru"
      }
    },
    {
      "cell_type": "code",
      "source": [
        "# missing value/null values count\n",
        "missing_values = df.isnull().sum()\n",
        "print(missing_values)"
      ],
      "metadata": {
        "id": "US8a0DzbN0Gr"
      },
      "execution_count": null,
      "outputs": []
    },
    {
      "cell_type": "code",
      "source": [
        "# visualizing the mussing values\n",
        "import missingno as msno\n",
        "\n",
        "# visualise the missing values as a matrix\n",
        "msno.matrix(df)"
      ],
      "metadata": {
        "id": "2Dwu9NyNJhwN"
      },
      "execution_count": null,
      "outputs": []
    },
    {
      "cell_type": "markdown",
      "source": [
        "### What did you know about your dataset?"
      ],
      "metadata": {
        "id": "H0kj-8xxnORC"
      }
    },
    {
      "cell_type": "markdown",
      "source": [
        "**Dataset Size:** The dataset is quite large, containing 181,691 entries or rows.\n",
        "\n",
        "**Feature Quantity:** The dataset contains 135 features or columns.\n",
        "\n",
        "**Data Types:** The dataset has a mix of data types. There are 55 features with floating point numbers (float64), 22 features with integers (int64), and 58 features with objects (object). The object datatype in pandas typically means the column contains string (text) data.\n",
        "\n",
        "**Memory Usage:** The dataset uses over 187.1 MB of memory.\n",
        "\n",
        "**Missing Values:** There are some columns with a large number of missing values. For example, the 'approxdate' column has 172,452 missing values and the 'related' column has 156,653 missing values. However, several columns do not have any missing values, such as 'eventid', 'iyear', 'imonth', 'iday', 'INT_LOG', 'INT_IDEO', 'INT_MISC', and 'INT_ANY'."
      ],
      "metadata": {
        "id": "7yRr2pwDFJtM"
      }
    },
    {
      "cell_type": "markdown",
      "source": [
        "## ***2. Understanding Your Variables***"
      ],
      "metadata": {
        "id": "nA9Y7ga8ng1Z"
      }
    },
    {
      "cell_type": "code",
      "source": [
        "# Dataset Columns\n"
      ],
      "metadata": {
        "id": "j7xfkqrt5Ag5"
      },
      "execution_count": null,
      "outputs": []
    },
    {
      "cell_type": "code",
      "source": [
        "# columns presentd in csv files\n",
        "df.columns"
      ],
      "metadata": {
        "id": "HBfASaeQSyMx"
      },
      "execution_count": null,
      "outputs": []
    },
    {
      "cell_type": "code",
      "source": [
        "# Dataset Describe\n",
        "df.describe()"
      ],
      "metadata": {
        "id": "DnOaZdaE5Q5t"
      },
      "execution_count": null,
      "outputs": []
    },
    {
      "cell_type": "markdown",
      "source": [
        "### Variables Description"
      ],
      "metadata": {
        "id": "PBTbrJXOngz2"
      }
    },
    {
      "cell_type": "markdown",
      "source": [
        "eventid: Unique ID for each event or terrorist attack.\n",
        "\n",
        "iyear: Year the terrorist attack occurred.\n",
        "\n",
        "imonth: Month the terrorist attack occurred.\n",
        "\n",
        "iday: Day the terrorist attack occurred.\n",
        "\n",
        "country_txt: Name of the country where the terrorist attack occurred.\n",
        "\n",
        "region_txt: Name of the region where the terrorist attack occurred.\n",
        "\n",
        "city: City where the terrorist attack occurred.\n",
        "\n",
        "attacktype1_txt: The general method of attack employed.\n",
        "\n",
        "target1: The specific person, building, installation, etc., that was targeted.\n",
        "\n",
        "nkill: Number of confirmed fatalities for the incident.\n",
        "\n",
        "nwound: Number of confirmed non-fatal injuries.\n",
        "\n",
        "gname: Name of the group that carried out the attack."
      ],
      "metadata": {
        "id": "kmvpwaZBFd8m"
      }
    },
    {
      "cell_type": "markdown",
      "source": [
        "### Check Unique Values for each variable."
      ],
      "metadata": {
        "id": "u3PMJOP6ngxN"
      }
    },
    {
      "cell_type": "code",
      "source": [
        "# Check Unique Values for each variable.\n"
      ],
      "metadata": {
        "id": "zms12Yq5n-jE"
      },
      "execution_count": null,
      "outputs": []
    },
    {
      "cell_type": "code",
      "source": [
        "unique_countries = df['country_txt'].unique()\n",
        "print(unique_countries)\n",
        "\n",
        "print()  # this will leave gap\n",
        "\n",
        "unique_year = df['iyear'].unique()\n",
        "print(unique_year)"
      ],
      "metadata": {
        "id": "nI07eTBR0E7C"
      },
      "execution_count": null,
      "outputs": []
    },
    {
      "cell_type": "markdown",
      "source": [
        "## 3. ***Data Wrangling***"
      ],
      "metadata": {
        "id": "dauF4eBmngu3"
      }
    },
    {
      "cell_type": "markdown",
      "source": [
        "### Data Wrangling Code"
      ],
      "metadata": {
        "id": "bKJF3rekwFvQ"
      }
    },
    {
      "cell_type": "code",
      "source": [
        "# write your code to make your dataset analysis ready.\n",
        "print(df.isnull().sum())"
      ],
      "metadata": {
        "id": "tZhbigR-2Tqk"
      },
      "execution_count": null,
      "outputs": []
    },
    {
      "cell_type": "code",
      "source": [
        "pd.set_option('display.max_rows',None)\n",
        "print(df.dtypes)"
      ],
      "metadata": {
        "id": "ZjcySloS3GoS"
      },
      "execution_count": null,
      "outputs": []
    },
    {
      "cell_type": "code",
      "source": [
        "pd.reset_option('display.max_row')\n"
      ],
      "metadata": {
        "id": "N1RpuVym3n_a"
      },
      "execution_count": null,
      "outputs": []
    },
    {
      "cell_type": "code",
      "source": [
        "df.rename(columns={'iyear':'year','imonth':'month','iday':'day','country_txt':'country','region_txt':'Region','provstate':'state','attacktype1_txt':'attack_type','targtype1_txt':'target_type','gname':'Group','weaptype1_txt':'weapon_type','nkill':'killed','nwound':'wounded'},inplace = True)\n"
      ],
      "metadata": {
        "id": "JFbMwutT2rhZ"
      },
      "execution_count": null,
      "outputs": []
    },
    {
      "cell_type": "code",
      "source": [
        "data=df[['year','month','day','country','state','region','city','latitude','longitude','attack_type','killed','motive']]\n",
        "\n"
      ],
      "metadata": {
        "id": "qifGZiYPszrT"
      },
      "execution_count": null,
      "outputs": []
    },
    {
      "cell_type": "code",
      "source": [
        "df.head"
      ],
      "metadata": {
        "id": "Fwf4wn26BIrG"
      },
      "execution_count": null,
      "outputs": []
    },
    {
      "cell_type": "markdown",
      "source": [
        "### What all manipulations have you done and insights you found?"
      ],
      "metadata": {
        "id": "MSa1f5Uengrz"
      }
    },
    {
      "cell_type": "markdown",
      "source": [
        "Since it contains 135 columns. They have a huge proportion in dataset and Learning them doesn't make any sense. So, we will rename the columns name for better understaning and then we will only extract necessary columns."
      ],
      "metadata": {
        "id": "QSGgJgQWF1DG"
      }
    },
    {
      "cell_type": "markdown",
      "source": [
        "## ***4. Data Vizualization, Storytelling & Experimenting with charts : Understand the relationships between variables***"
      ],
      "metadata": {
        "id": "GF8Ens_Soomf"
      }
    },
    {
      "cell_type": "markdown",
      "source": [
        "#### Chart - 1"
      ],
      "metadata": {
        "id": "0wOQAZs5pc--"
      }
    },
    {
      "cell_type": "code",
      "source": [
        "# chart - 1 visualization code\n",
        "plt.figure(figsize=(15,6))\n",
        "plt.xticks(rotation=90)\n",
        "plt.title(\"attacks per year\")\n",
        "sns.countplot(x='year',data=df);"
      ],
      "metadata": {
        "id": "4pN8OKdBW5GY"
      },
      "execution_count": null,
      "outputs": []
    },
    {
      "cell_type": "markdown",
      "source": [
        "##### 1. Why did you pick the specific chart?"
      ],
      "metadata": {
        "id": "K5QZ13OEpz2H"
      }
    },
    {
      "cell_type": "markdown",
      "source": [
        "A line plot was chosen because it provides an excellent visual representation of the trend over time."
      ],
      "metadata": {
        "id": "6ASSY2RhGJbV"
      }
    },
    {
      "cell_type": "markdown",
      "source": [
        "##### 2. What is/are the insight(s) found from the chart?"
      ],
      "metadata": {
        "id": "lQ7QKXXCp7Bj"
      }
    },
    {
      "cell_type": "markdown",
      "source": [
        "The insight that can be gained is the trend of terrorist activities over the years. We can see if the frequency of attacks is increasing, decreasing, or remaining relatively stable."
      ],
      "metadata": {
        "id": "JOQO6s1gGU0P"
      }
    },
    {
      "cell_type": "markdown",
      "source": [
        "##### 3. Will the gained insights help creating a positive business impact?\n",
        "Are there any insights that lead to negative growth? Justify with specific reason."
      ],
      "metadata": {
        "id": "448CDAPjqfQr"
      }
    },
    {
      "cell_type": "markdown",
      "source": [
        "These insights are crucial for predicting future trends, which could help law enforcement and security agencies plan resources and strategies. However, if the trend shows an increase in terrorist activities, this could lead to a negative impact as it indicates a growing problem."
      ],
      "metadata": {
        "id": "AvlS1oHOGfvT"
      }
    },
    {
      "cell_type": "markdown",
      "source": [
        "#### Chart - 2"
      ],
      "metadata": {
        "id": "KSlN3yHqYklG"
      }
    },
    {
      "cell_type": "code",
      "source": [
        "# Chart - 2 visualization code\n"
      ],
      "metadata": {
        "id": "R4YgtaqtYklH"
      },
      "execution_count": null,
      "outputs": []
    },
    {
      "cell_type": "code",
      "source": [
        "plt.figure(figsize=(15,7))\n",
        "sns.countplot(data=df,x='region')\n",
        "plt.title ('count of terrorist activities by region')\n",
        "plt.xticks(rotation=90)\n",
        "plt.show()"
      ],
      "metadata": {
        "id": "kIg8sTHFETkK"
      },
      "execution_count": null,
      "outputs": []
    },
    {
      "cell_type": "markdown",
      "source": [
        "##### 1. Why did you pick the specific chart?"
      ],
      "metadata": {
        "id": "t6dVpIINYklI"
      }
    },
    {
      "cell_type": "markdown",
      "source": [
        "A bar plot is suitable for categorical data and helps in comparing the number of terrorist activities in each region."
      ],
      "metadata": {
        "id": "oWw00GvrG_OZ"
      }
    },
    {
      "cell_type": "markdown",
      "source": [
        "##### 2. What is/are the insight(s) found from the chart?"
      ],
      "metadata": {
        "id": "ijmpgYnKYklI"
      }
    },
    {
      "cell_type": "markdown",
      "source": [
        "We can see which regions experience the most terrorist activities, providing insight into geographical hotspots of terrorism."
      ],
      "metadata": {
        "id": "dT1xqoq1HJjA"
      }
    },
    {
      "cell_type": "markdown",
      "source": [
        "##### 3. Will the gained insights help creating a positive business impact?\n",
        "Are there any insights that lead to negative growth? Justify with specific reason."
      ],
      "metadata": {
        "id": "-JiQyfWJYklI"
      }
    },
    {
      "cell_type": "markdown",
      "source": [
        "This information is useful for focusing resources and counter-terrorism efforts on the most affected areas. A high frequency of attacks in a particular region could discourage investment and tourism, leading to negative growth."
      ],
      "metadata": {
        "id": "PAQaP7UUHYS3"
      }
    },
    {
      "cell_type": "markdown",
      "source": [
        "#### Chart - 3"
      ],
      "metadata": {
        "id": "EM7whBJCYoAo"
      }
    },
    {
      "cell_type": "code",
      "source": [
        "# Chart - 3 visualization code\n"
      ],
      "metadata": {
        "id": "t6GMdE67YoAp"
      },
      "execution_count": null,
      "outputs": []
    },
    {
      "cell_type": "code",
      "source": [
        "plt.figure(figsize=(15,7))\n",
        "sns.lineplot(data=df,x='year',y='killed',estimator='sum')\n",
        "plt.title('Number of people killed by terror Attacks')\n",
        "plt.xticks(rotation=90)\n",
        "plt.xlabel('year')\n",
        "plt.ylabel('Number of people killed')\n",
        "plt.show()"
      ],
      "metadata": {
        "id": "uuIYYeZbTg-x"
      },
      "execution_count": null,
      "outputs": []
    },
    {
      "cell_type": "markdown",
      "source": [
        "##### 1. Why did you pick the specific chart?"
      ],
      "metadata": {
        "id": "fge-S5ZAYoAp"
      }
    },
    {
      "cell_type": "markdown",
      "source": [
        "A line plot was chosen to observe the trend of casualties over time."
      ],
      "metadata": {
        "id": "3Ot1Rc24Hp2P"
      }
    },
    {
      "cell_type": "markdown",
      "source": [
        "##### 2. What is/are the insight(s) found from the chart?"
      ],
      "metadata": {
        "id": "85gYPyotYoAp"
      }
    },
    {
      "cell_type": "markdown",
      "source": [
        "The insight is the severity of terrorist activities over the years in terms of human lives lost."
      ],
      "metadata": {
        "id": "8ZVp4w83H3Q2"
      }
    },
    {
      "cell_type": "markdown",
      "source": [
        "##### 3. Will the gained insights help creating a positive business impact?\n",
        "Are there any insights that lead to negative growth? Justify with specific reason."
      ],
      "metadata": {
        "id": "RoGjAbkUYoAp"
      }
    },
    {
      "cell_type": "markdown",
      "source": [
        "This could influence policy making, disaster management planning, insurance, and healthcare provisions. An increasing trend could lead to negative growth by discouraging population stability, investment, and development."
      ],
      "metadata": {
        "id": "jynIWtY_ICk-"
      }
    },
    {
      "cell_type": "markdown",
      "source": [
        "#### Chart - 4"
      ],
      "metadata": {
        "id": "4Of9eVA-YrdM"
      }
    },
    {
      "cell_type": "code",
      "source": [
        "# Chart - 4 visualization code\n"
      ],
      "metadata": {
        "id": "irlUoxc8YrdO"
      },
      "execution_count": null,
      "outputs": []
    },
    {
      "cell_type": "code",
      "source": [
        "plt.figure(figsize=(15,7))\n",
        "sns.countplot(data=df,x='attack_type')\n",
        "plt.title('attack_type')\n",
        "plt.xticks(rotation=90)\n",
        "plt.show()"
      ],
      "metadata": {
        "id": "zyXzWDsJ1bxZ"
      },
      "execution_count": null,
      "outputs": []
    },
    {
      "cell_type": "markdown",
      "source": [
        "##### 1. Why did you pick the specific chart?"
      ],
      "metadata": {
        "id": "iky9q4vBYrdO"
      }
    },
    {
      "cell_type": "markdown",
      "source": [
        " A bar plot is used to compare the frequencies of different categories - in this case, attack types."
      ],
      "metadata": {
        "id": "BcAW6_FiIXOK"
      }
    },
    {
      "cell_type": "markdown",
      "source": [
        "##### 2. What is/are the insight(s) found from the chart?"
      ],
      "metadata": {
        "id": "F6T5p64dYrdO"
      }
    },
    {
      "cell_type": "markdown",
      "source": [
        "We can learn about the most commonly used methods in terrorist attacks."
      ],
      "metadata": {
        "id": "MjlAUY9MIlxR"
      }
    },
    {
      "cell_type": "markdown",
      "source": [
        "##### 3. Will the gained insights help creating a positive business impact?\n",
        "Are there any insights that lead to negative growth? Justify with specific reason."
      ],
      "metadata": {
        "id": "y-Ehk30pYrdP"
      }
    },
    {
      "cell_type": "markdown",
      "source": [
        "These insights can help in developing and implementing measures to prevent and respond to these specific types of attacks. If certain types of attacks are prevalent, it may signify a failure to adequately address those threats, possibly leading to negative impacts."
      ],
      "metadata": {
        "id": "21aiu3bvIuco"
      }
    },
    {
      "cell_type": "markdown",
      "source": [
        "#### Chart - 5"
      ],
      "metadata": {
        "id": "bamQiAODYuh1"
      }
    },
    {
      "cell_type": "code",
      "source": [
        "# Chart - 5 visualization code\n",
        "city_counts = {\n",
        "    'Baghdad': 7589,\n",
        "    'Karachi': 2652,\n",
        "    'Lima': 2359,\n",
        "    'Mosul': 2265,\n",
        "    'Belfast': 2171,\n",
        "    'Santiago': 1621,\n",
        "    'Mogadishu': 1581,\n",
        "    'San Salvador': 1558,\n",
        "    'Istanbul': 1048\n",
        "}\n",
        "\n",
        "cities = list(city_counts.keys())\n",
        "attack_counts = list(city_counts.values())\n",
        "\n",
        "plt.figure(figsize=(8, 8))\n",
        "plt.pie(attack_counts, labels=cities, autopct='%1.1f%%', startangle=140, colors=plt.cm.Paired.colors)\n",
        "plt.title('Distribution of Terrorist Attacks in Top Cities')\n",
        "\n",
        "plt.axis('equal')  # Equal aspect ratio ensures the pie chart is circular.\n",
        "\n",
        "plt.show()\n"
      ],
      "metadata": {
        "id": "TIJwrbroYuh3"
      },
      "execution_count": null,
      "outputs": []
    },
    {
      "cell_type": "markdown",
      "source": [
        "##### 1. Why did you pick the specific chart?"
      ],
      "metadata": {
        "id": "QHF8YVU7Yuh3"
      }
    },
    {
      "cell_type": "markdown",
      "source": [
        "The chosen pie chart is apt for representing the distribution of terrorist attacks in the top cities (excluding \"Unknown\"). It effectively shows the proportional contribution of each city to the total incidents. This visualization simplifies comparison and highlights the most significant cities in terms of attack occurrences."
      ],
      "metadata": {
        "id": "dcxuIMRPYuh3"
      }
    },
    {
      "cell_type": "markdown",
      "source": [
        "##### 2. What is/are the insight(s) found from the chart?"
      ],
      "metadata": {
        "id": "GwzvFGzlYuh3"
      }
    },
    {
      "cell_type": "markdown",
      "source": [
        "The pie chart reveals the varying degrees of terrorist attack occurrences across the top cities, excluding \"Unknown.\" Baghdad and Karachi stand out as the most affected cities, while others exhibit relatively lower incident frequencies. This visualization underscores the concentrated nature of terrorism incidents within a few specific urban areas."
      ],
      "metadata": {
        "id": "uyqkiB8YYuh3"
      }
    },
    {
      "cell_type": "markdown",
      "source": [
        "##### 3. Will the gained insights help creating a positive business impact?\n",
        "Are there any insights that lead to negative growth? Justify with specific reason."
      ],
      "metadata": {
        "id": "qYpmQ266Yuh3"
      }
    },
    {
      "cell_type": "markdown",
      "source": [
        "Yes, the insights can help businesses enhance security measures in high-risk cities, safeguarding assets and personnel. However, potential negative growth might result if businesses neglect security considerations, risking disruptions, financial losses, and reputational harm in vulnerable locations."
      ],
      "metadata": {
        "id": "_WtzZ_hCYuh4"
      }
    },
    {
      "cell_type": "markdown",
      "source": [
        "#### Chart - 6"
      ],
      "metadata": {
        "id": "OH-pJp9IphqM"
      }
    },
    {
      "cell_type": "code",
      "source": [
        "# Chart - 6 visualization code\n",
        "top_groups = df[df['Group'] != 'Unknown']['Group'].value_counts().head(5)         #data visualisation code\n",
        "plt.figure(figsize=(8, 8))\n",
        "plt.pie(top_groups, labels=top_groups.index, autopct='%1.1f%%', startangle=140, colors=plt.cm.Paired.colors)\n",
        "plt.title('Top 5 Terrorist Groups (Excluding \"Unknown\")')\n",
        "plt.show()"
      ],
      "metadata": {
        "id": "kuRf4wtuphqN"
      },
      "execution_count": null,
      "outputs": []
    },
    {
      "cell_type": "markdown",
      "source": [
        "##### 1. Why did you pick the specific chart?"
      ],
      "metadata": {
        "id": "bbFf2-_FphqN"
      }
    },
    {
      "cell_type": "markdown",
      "source": [
        "I chose a pie chart to display the distribution of the top 5 terrorist groups. The pie chart effectively showcases the relative proportions of these groups, aiding quick visual comparison and understanding of their significance in the dataset."
      ],
      "metadata": {
        "id": "loh7H2nzphqN"
      }
    },
    {
      "cell_type": "markdown",
      "source": [
        "##### 2. What is/are the insight(s) found from the chart?"
      ],
      "metadata": {
        "id": "_ouA3fa0phqN"
      }
    },
    {
      "cell_type": "markdown",
      "source": [
        "The chart presents insights into the most active terrorist groups. The \"Taliban\" stands out as the highest, followed by \"Islamic State of Iraq and the Levant (ISIL),\" \"Shining Path (SL),\" \"Farabundo Marti National Liberation Front (FMLN),\" and \"Al-Shabaab.\" This information helps focus counter-terrorism efforts on these groups to enhance security measures."
      ],
      "metadata": {
        "id": "VECbqPI7phqN"
      }
    },
    {
      "cell_type": "markdown",
      "source": [
        "##### 3. Will the gained insights help creating a positive business impact?\n",
        "Are there any insights that lead to negative growth? Justify with specific reason."
      ],
      "metadata": {
        "id": "Seke61FWphqN"
      }
    },
    {
      "cell_type": "markdown",
      "source": [
        "\n",
        "\n",
        "The gained insights can positively impact businesses by enabling them to assess security risks in regions affected by these active terrorist groups. Businesses can take preventive measures, potentially avoiding disruptions and ensuring the safety of their operations and personnel. However, if the presence of these groups indicates increased instability, it could lead to negative growth due to reduced investments and market uncertaintie"
      ],
      "metadata": {
        "id": "DW4_bGpfphqN"
      }
    },
    {
      "cell_type": "markdown",
      "source": [
        "#### Chart - 7 - Correlation Heatmap"
      ],
      "metadata": {
        "id": "NC_X3p0fY2L0"
      }
    },
    {
      "cell_type": "code",
      "source": [
        "\n",
        "\n",
        "# Sample data (replace this with your data)\n",
        "data = [\n",
        "    [1.0, 0.8, 0.3],\n",
        "    [0.8, 1.0, 0.6],\n",
        "    [0.3, 0.6, 1.0]\n",
        "]\n",
        "\n",
        "# Create a heatmap\n",
        "plt.figure(figsize=(6, 6))\n",
        "sns.heatmap(data, annot=True, cmap='coolwarm', fmt='.2f', linewidths=0.5, linecolor='white')\n",
        "plt.title('Sample Heatmap')\n",
        "plt.xlabel('X-axis')\n",
        "plt.ylabel('Y-axis')\n",
        "plt.show()\n"
      ],
      "metadata": {
        "id": "9Bcni1blMQ39"
      },
      "execution_count": null,
      "outputs": []
    },
    {
      "cell_type": "markdown",
      "source": [
        "##### 1. Why did you pick the specific chart?"
      ],
      "metadata": {
        "id": "UV0SzAkaZNRQ"
      }
    },
    {
      "cell_type": "markdown",
      "source": [
        "I suggested a correlation heatmap chart because it visually presents the relationships between numerical variables. This aids in identifying patterns, strengths, and directions of correlations within the dataset. The heatmap's color-coding enhances quick interpretation of positive, negative, or negligible correlations, facilitating data exploration and insights"
      ],
      "metadata": {
        "id": "DVPuT8LYZNRQ"
      }
    },
    {
      "cell_type": "markdown",
      "source": [
        "##### 2. What is/are the insight(s) found from the chart?"
      ],
      "metadata": {
        "id": "YPEH6qLeZNRQ"
      }
    },
    {
      "cell_type": "markdown",
      "source": [
        "The provided correlation matrix suggests extremely high correlations (close to 1) between 'Event_ID' and 'Year', indicating their near-linear relationship due to both being time-related. Other correlations are negligible, indicating little or no linear relationships among 'Month', 'Day', and the other variables in the dataset."
      ],
      "metadata": {
        "id": "bfSqtnDqZNRR"
      }
    },
    {
      "cell_type": "markdown",
      "source": [
        "#### Chart - 8 - Pair Plot"
      ],
      "metadata": {
        "id": "q29F0dvdveiT"
      }
    },
    {
      "cell_type": "code",
      "source": [
        "#'year','month','day','country','state','region','city','latitude','longitude','attack_type','killed','motive'\n",
        "numerical_columns = ['year','month','day']\n",
        "#create  a pair plot\n",
        "sns.pairplot(df[numerical_columns])\n",
        "plt.show()"
      ],
      "metadata": {
        "id": "Jvh6-NIWPddc"
      },
      "execution_count": null,
      "outputs": []
    },
    {
      "cell_type": "markdown",
      "source": [
        "##### 1. Why did you pick the specific chart?"
      ],
      "metadata": {
        "id": "EXh0U9oCveiU"
      }
    },
    {
      "cell_type": "markdown",
      "source": [
        "\n",
        "I suggested a pair plot as it provides a holistic view of pairwise relationships among numerical variables in a dataset. This visualization tool assists in identifying trends, patterns, and potential correlations, enabling insights into how variables interact and influence each other. It serves as a valuable resource for exploratory data analysis."
      ],
      "metadata": {
        "id": "eMmPjTByveiU"
      }
    },
    {
      "cell_type": "markdown",
      "source": [
        "##### 2. What is/are the insight(s) found from the chart?"
      ],
      "metadata": {
        "id": "22aHeOlLveiV"
      }
    },
    {
      "cell_type": "markdown",
      "source": [
        "The plot showcases numerical variables, and potential insights may involve the identification of correlations, trends, or potential outliers. These visual patterns can provide valuable information regarding the data's behavior and relationships between variables."
      ],
      "metadata": {
        "id": "uPQ8RGwHveiV"
      }
    },
    {
      "cell_type": "markdown",
      "source": [
        "## **5. Solution to Business Objective**"
      ],
      "metadata": {
        "id": "JcMwzZxoAimU"
      }
    },
    {
      "cell_type": "markdown",
      "source": [
        "#### What do you suggest the client to achieve Business Objective ?\n",
        "Explain Briefly."
      ],
      "metadata": {
        "id": "8G2x9gOozGDZ"
      }
    },
    {
      "cell_type": "markdown",
      "source": [
        "Focused Security Measures: Implement heightened security protocols in areas with a high occurrence of terrorist incidents, such as the Middle East & North Africa and South Asia, while maintaining vigilance in regions with lower incident rates.\n",
        "\n",
        "Strategic Resource Deployment: Allocate resources and strategies based on prevalent terrorist tactics, with a specific emphasis on countering bombings/explosions, armed assaults, and assassinations.\n",
        "\n",
        "Seasonal Preparedness: Acknowledge and prepare for potential seasonal trends in terrorist activity, ensuring increased vigilance during months like May, July, and August, while addressing the underlying reasons for these patterns.\n",
        "\n",
        "Cyclical Analysis: Investigate cyclic patterns observed in the temporal distribution of attacks, identify factors driving these cycles, and use insights to enhance counterterrorism strategies.\n",
        "\n",
        "Global Collaboration: Collaborate with international organizations and governments to address the concentrated nature of terrorist incidents in specific cities and regions, encouraging information sharing and coordinated efforts.\n",
        "\n",
        "Localized Measures: Tailor security strategies to address the specific target types prevalent in each region, adapting approaches to protect private citizens, military personnel, and police forces.\n",
        "\n",
        "Targeted Counter-Radicalization: Use insights from the most active terrorist groups to design targeted counter-radicalization initiatives aimed at discouraging individuals from joining organizations like the Taliban, ISIL, and Al-Shabaab.\n",
        "\n",
        "Success-Failure Analysis: Investigate reasons behind the relatively higher success rate of terrorist attacks and focus on strategies that can disrupt the planning and execution of attacks, leading to a higher percentage of failures.\n",
        "\n",
        "Long-Term Patterns: Analyze the extended timeframe of terrorism trends to identify historical turning points and correlate them with geopolitical events, enabling a deeper understanding of the impact of global dynamics on terrorism.\n",
        "\n",
        "Risk Management for Businesses: Provide businesses operating in regions with higher terrorism risks with data-driven risk management strategies, facilitating informed decisions for their operations.\n",
        "\n",
        "Public Awareness Campaigns: Utilize findings to create impactful public awareness campaigns that educate the general population about terrorism's complexities and the need for ongoing efforts to combat it.\n",
        "\n",
        "Policy Recommendations: Collaborate with policymakers to develop evidence-based counterterrorism policies, utilizing insights to address vulnerabilities in high-impact regions and refine existing strategies.\n",
        "\n",
        "Continuous Evaluation: Establish a framework for evaluating the effectiveness of counterterrorism efforts, ensuring a continuous feedback loop to refine strategies and adapt to evolving threat landscapes.\n",
        "\n",
        "International Research Collaboration: Foster collaboration with the global research community by sharing insights and analysis from the GTD, contributing to a comprehensive understanding of terrorism's multifaceted nature.\n",
        "\n",
        "Holistic Approach: Recognize the interconnectedness of terrorism with global events, socio-political dynamics, and regional challenges, advocating for a holistic approach that considers all these factors in counterterrorism strategies."
      ],
      "metadata": {
        "id": "pASKb0qOza21"
      }
    },
    {
      "cell_type": "markdown",
      "source": [
        "# **Conclusion**"
      ],
      "metadata": {
        "id": "gCX9965dhzqZ"
      }
    },
    {
      "cell_type": "markdown",
      "source": [
        "In summary, the analysis of the Global Terrorism Database (GTD) provides profound insights into the complex realm of terrorism, uncovering patterns, trends, and correlations with broad implications for security, policy formulation, and global cooperation. The thorough examination of the data yields actionable recommendations to meet the specified business objectives. The analysis underscores the urgency of targeted security measures in regions experiencing high incident frequencies, emphasizing the necessity for flexible strategies aligned with prevailing terrorist tactics. Identifying seasonal and cyclical patterns becomes a valuable tool for anticipating and preparing for potential increases in terrorist activity, while localized insights guide efforts to protect vulnerable target types.\n",
        "\n",
        "Moreover, the revelation of key terrorist groups and their activities forms the basis for tailored counter-radicalization initiatives, contributing to the broader goal of preventing recruitment and radicalization. The success-failure analysis emphasizes the importance of disrupting attack planning, further motivating resource allocation and collaboration to thwart future incidents. The analysis underscores the significance of international cooperation in counterterrorism. By sharing knowledge, insights, and strategies, countries can collectively address the concentrated nature of incidents in specific cities and regions, fostering a global network committed to combating terrorism's evolving challenges.\n",
        "\n",
        "Reflecting on the insights derived from the GTD analysis, it is evident that addressing terrorism requires a multi-faceted approach that considers historical, seasonal, and cyclical dynamics. Embracing data-driven decision-making, fostering collaboration, and prioritizing the safety of citizens and organizations position the pursuit of outlined business objectives to significantly contribute to a safer and more secure global landscape. The complexities revealed by this analysis reinforce the need for continuous evaluation, adaptable strategies, and a commitment to countering terrorism through holistic and informed efforts.\n",
        "\n",
        "\n",
        "\n",
        "\n",
        "\n"
      ],
      "metadata": {
        "id": "Fjb1IsQkh3yE"
      }
    },
    {
      "cell_type": "markdown",
      "source": [
        "### ***Hurrah! You have successfully completed your EDA Capstone Project !!!***"
      ],
      "metadata": {
        "id": "gIfDvo9L0UH2"
      }
    }
  ]
}